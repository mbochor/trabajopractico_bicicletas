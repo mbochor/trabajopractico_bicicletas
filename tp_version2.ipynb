{
 "cells": [
  {
   "cell_type": "code",
   "execution_count": null,
   "metadata": {},
   "outputs": [],
   "source": [
    "import pandas as pd\n",
    "import numpy as np\n",
    "import matplotlib.pyplot as plt\n",
    "%matplotlib inline\n",
    "import seaborn as sns\n",
    "from IPython.display import Image"
   ]
  },
  {
   "cell_type": "code",
   "execution_count": null,
   "metadata": {},
   "outputs": [],
   "source": [
    "#Importamos dataset de ciudad de buenos aires: uno de recorridos de bicicleta para el año 2018 y otro de usuarios\n",
    "\n",
    "usuarios = pd.read_csv(r'C:\\Users\\Milagros\\OneDrive\\Escritorio\\UTN\\5To AÑO\\Ciencia de datos\\tp2\\usuarios-ecobici-2018.csv', delimiter=',')\n",
    "recorridos = pd.read_csv(r'C:\\Users\\Milagros\\OneDrive\\Escritorio\\UTN\\5To AÑO\\Ciencia de datos\\tp2\\recorridos-realizados-2018.csv', delimiter=',')\n"
   ]
  },
  {
   "cell_type": "code",
   "execution_count": null,
   "metadata": {},
   "outputs": [],
   "source": [
    "recorridos.head()"
   ]
  },
  {
   "cell_type": "code",
   "execution_count": null,
   "metadata": {},
   "outputs": [],
   "source": [
    "usuarios.head()"
   ]
  },
  {
   "cell_type": "code",
   "execution_count": null,
   "metadata": {},
   "outputs": [],
   "source": [
    "#vemos el tamaño de los dataset\n",
    "dimension_recorridos = np.shape(recorridos)\n",
    "dimension_usuarios = np.shape(usuarios)\n",
    "print (dimension_recorridos)\n",
    "print (dimension_usuarios)"
   ]
  },
  {
   "cell_type": "code",
   "execution_count": null,
   "metadata": {},
   "outputs": [],
   "source": [
    "recorridos.columns"
   ]
  },
  {
   "cell_type": "code",
   "execution_count": null,
   "metadata": {},
   "outputs": [],
   "source": [
    "usuarios.columns"
   ]
  },
  {
   "cell_type": "code",
   "execution_count": null,
   "metadata": {},
   "outputs": [],
   "source": [
    "#vemos la cantidad de nulos que tiene el dataset de recorridos\n",
    "percent = (recorridos.isnull().sum()/recorridos.isnull().count()).sort_values(ascending=False)\n",
    "percent.head(20)"
   ]
  },
  {
   "cell_type": "code",
   "execution_count": null,
   "metadata": {},
   "outputs": [],
   "source": [
    "#vemos la cantidad de nulos que tiene el dataset de usuarios\n",
    "percent = (usuarios.isnull().sum()/usuarios.isnull().count()).sort_values(ascending=False)\n",
    "percent.head(20)"
   ]
  },
  {
   "cell_type": "code",
   "execution_count": null,
   "metadata": {},
   "outputs": [],
   "source": [
    "len (recorridos[\"id_usuario\"].unique())\n"
   ]
  },
  {
   "cell_type": "code",
   "execution_count": null,
   "metadata": {},
   "outputs": [],
   "source": [
    "len (usuarios[\"usuario_id\"].unique())"
   ]
  },
  {
   "cell_type": "code",
   "execution_count": null,
   "metadata": {},
   "outputs": [],
   "source": [
    "#Uno el dataet de recorridos con el dataset de usuarios\n",
    "#me quedo solo con los recorridos que tengo datos de los usuarios, por eso hago el inner\n",
    "recorridos_por_usuario = recorridos.merge(usuarios, how= 'inner' , left_on = ['id_usuario'], right_on=['usuario_id'])\n",
    "recorridos_por_usuario.shape\n"
   ]
  },
  {
   "cell_type": "code",
   "execution_count": null,
   "metadata": {},
   "outputs": [],
   "source": [
    "recorridos_por_usuario.columns"
   ]
  },
  {
   "cell_type": "code",
   "execution_count": null,
   "metadata": {},
   "outputs": [],
   "source": [
    "recorridos_por_usuario.head()"
   ]
  },
  {
   "cell_type": "code",
   "execution_count": 1,
   "metadata": {},
   "outputs": [
    {
     "ename": "NameError",
     "evalue": "name 'recorridos_por_usuario' is not defined",
     "output_type": "error",
     "traceback": [
      "\u001b[1;31m---------------------------------------------------------------------------\u001b[0m",
      "\u001b[1;31mNameError\u001b[0m                                 Traceback (most recent call last)",
      "\u001b[1;32m<ipython-input-1-b1c86afb0c95>\u001b[0m in \u001b[0;36m<module>\u001b[1;34m\u001b[0m\n\u001b[1;32m----> 1\u001b[1;33m \u001b[0mrecorridos_por_usuario\u001b[0m\u001b[1;33m.\u001b[0m\u001b[0mdescribe\u001b[0m\u001b[1;33m(\u001b[0m\u001b[1;33m)\u001b[0m\u001b[1;33m\u001b[0m\u001b[1;33m\u001b[0m\u001b[0m\n\u001b[0m",
      "\u001b[1;31mNameError\u001b[0m: name 'recorridos_por_usuario' is not defined"
     ]
    }
   ],
   "source": [
    "recorridos_por_usuario.describe()"
   ]
  },
  {
   "cell_type": "code",
   "execution_count": null,
   "metadata": {},
   "outputs": [],
   "source": [
    "#Columna log precios\n",
    "recorridos_por_usuario['log_edad'] = np.log(1+recorridos_por_usuario['usuario_edad'])\n",
    "#Plot edad de usuario\n",
    "sns.kdeplot(recorridos_por_usuario['usuario_edad'], color=\"b\", shade = True)\n",
    "plt.xlabel(\"Edad\")\n",
    "plt.title('Distribucion edad',size = 20)\n",
    "plt.show()\n",
    "#Plot Log-Precio\n",
    "sns.distplot(np.log(1+recorridos_por_usuario['log_edad']),color='b')\n",
    "plt.xlabel(\"Edad\")\n",
    "plt.show()"
   ]
  },
  {
   "cell_type": "code",
   "execution_count": null,
   "metadata": {},
   "outputs": [],
   "source": [
    "\n",
    "top_n = 200\n",
    "top_estaciones_origen = recorridos_por_usuario['nombre_estacion_origen'].value_counts().index[0:top_n]\n",
    "nuevodataframe = recorridos_por_usuario.groupby([\"nombre_estacion_origen\"])[\"nombreotrascolumnasquesemantienen\", \"nombreotrascolumnasquesemantienen\"].sum()\n",
    "\n",
    "\n",
    "\n",
    "print(top_estaciones_origen)"
   ]
  },
  {
   "cell_type": "code",
   "execution_count": null,
   "metadata": {},
   "outputs": [],
   "source": [
    "top_estaciones_destino = recorridos_por_usuario['nombre_estacion_destino'].value_counts()\n",
    "\n",
    "\n",
    "plt.figure(figsize=(15,3))\n",
    "g = sns.countplot(x='nombre_estacion_destino',data=recorridos_por_usuario, palette = \"muted\")\n",
    "g.set_xticklabels(g.get_xticklabels(), rotation=90, ha=\"right\")\n",
    "plt.title('Cuenta por estacion destino',size = 20)\n",
    "plt.xlabel(\"Estacion destino\")\n",
    "plt.ylabel(\"Count\")\n",
    "plt.show()"
   ]
  },
  {
   "cell_type": "code",
   "execution_count": null,
   "metadata": {},
   "outputs": [],
   "source": []
  },
  {
   "cell_type": "code",
   "execution_count": null,
   "metadata": {},
   "outputs": [],
   "source": []
  }
 ],
 "metadata": {
  "kernelspec": {
   "display_name": "Python 3",
   "language": "python",
   "name": "python3"
  },
  "language_info": {
   "codemirror_mode": {
    "name": "ipython",
    "version": 3
   },
   "file_extension": ".py",
   "mimetype": "text/x-python",
   "name": "python",
   "nbconvert_exporter": "python",
   "pygments_lexer": "ipython3",
   "version": "3.7.3"
  }
 },
 "nbformat": 4,
 "nbformat_minor": 2
}
