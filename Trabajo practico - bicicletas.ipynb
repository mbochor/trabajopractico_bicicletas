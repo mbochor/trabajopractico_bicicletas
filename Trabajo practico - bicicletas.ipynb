{
 "cells": [
  {
   "cell_type": "code",
   "execution_count": 1,
   "metadata": {},
   "outputs": [],
   "source": [
    "import pandas as pd\n",
    "import numpy as np\n",
    "import matplotlib.pyplot as plt\n",
    "%matplotlib inline\n",
    "import seaborn as sns\n",
    "from IPython.display import Image"
   ]
  },
  {
   "cell_type": "code",
   "execution_count": 2,
   "metadata": {},
   "outputs": [
    {
     "data": {
      "text/plain": [
       "'C:\\\\Users\\\\Milagros'"
      ]
     },
     "execution_count": 2,
     "metadata": {},
     "output_type": "execute_result"
    }
   ],
   "source": [
    "pwd"
   ]
  },
  {
   "cell_type": "markdown",
   "metadata": {},
   "source": [
    "Tenemos datos distribuidos en 2 datasets. Importamos los 2 datasets y procederemos a combinarlos para generar nuevas tablas."
   ]
  },
  {
   "cell_type": "code",
   "execution_count": null,
   "metadata": {},
   "outputs": [],
   "source": [
    "estaciones = pd.read_csv(r'C:\\Users\\Milagros\\OneDrive\\Escritorio\\UTN\\5To AÑO\\Ciencia de datos\\tp\\nuevas-estaciones-bicicletas-publicas.csv', delimiter=',')\n",
    "recorridos = pd.read_csv(r'C:\\Users\\Milagros\\OneDrive\\Escritorio\\UTN\\5To AÑO\\Ciencia de datos\\tp\\recorridos-realizados-2020.csv', delimiter=',')"
   ]
  },
  {
   "cell_type": "code",
   "execution_count": null,
   "metadata": {},
   "outputs": [],
   "source": [
    "estaciones.head()\n"
   ]
  },
  {
   "cell_type": "code",
   "execution_count": null,
   "metadata": {},
   "outputs": [],
   "source": [
    "estaciones.columns"
   ]
  },
  {
   "cell_type": "markdown",
   "metadata": {},
   "source": [
    "Datos estaciones: longitud, latitud, id, capacidad de bciicletas, direccion completa, nombre calle, altura, interseccion, barrio"
   ]
  },
  {
   "cell_type": "code",
   "execution_count": null,
   "metadata": {},
   "outputs": [],
   "source": [
    "recorridos.head()"
   ]
  },
  {
   "cell_type": "markdown",
   "metadata": {},
   "source": [
    "Datos recorridos: duracion en segundos, id estacion inicio (podemos joinearlas desde este campo), fecha inicio y fin, id estacion fin de viaje, id ciclista"
   ]
  },
  {
   "cell_type": "code",
   "execution_count": null,
   "metadata": {},
   "outputs": [],
   "source": [
    "recorridos.columns"
   ]
  },
  {
   "cell_type": "code",
   "execution_count": null,
   "metadata": {},
   "outputs": [],
   "source": [
    "np.shape(estaciones)"
   ]
  },
  {
   "cell_type": "code",
   "execution_count": null,
   "metadata": {},
   "outputs": [],
   "source": [
    "np.shape(recorridos)"
   ]
  },
  {
   "cell_type": "markdown",
   "metadata": {},
   "source": [
    "Conviene hacer left join partiendo de recorridos con estaciones. Idea: podemos ver de importar el dataset de usuarios de ecobici. El tema es que los recorridos de 2020 tiene mucho mas usuaruis nuevos que los del data set. Y si predecimos el comportamietn de usuarios nuevos entrenando al modelo con los que tenemos? "
   ]
  },
  {
   "cell_type": "code",
   "execution_count": null,
   "metadata": {},
   "outputs": [],
   "source": [
    "#Creo una columna con los meses de fecha de incicio del recorrido y agrupo \n",
    "recorridos.tiempo = pd.to_datetime(recorridos['Fecha de inicio']) \n",
    "recorridos['mes'] = recorridos.tiempo.dt.month \n",
    "recorridos.head()"
   ]
  },
  {
   "cell_type": "code",
   "execution_count": null,
   "metadata": {},
   "outputs": [],
   "source": [
    "#cantidad de recorridos por mes\n",
    "\n",
    "recorridos_por_mes = recorridos.groupby([\"mes\"])['Unnamed: 0'].count()\n",
    "recorridos_por_mes"
   ]
  },
  {
   "cell_type": "code",
   "execution_count": null,
   "metadata": {},
   "outputs": [],
   "source": [
    "recorridos_por_estacion= pd.merge(recorridos,estaciones, left_on='Id de estación de inicio', right_on='id_estacion')\n",
    "recorridos_por_estacion.head()"
   ]
  },
  {
   "cell_type": "code",
   "execution_count": null,
   "metadata": {},
   "outputs": [],
   "source": [
    "#Corroboramos que se hizo bien el merge, perdi datos, por que? \n",
    "np.shape(recorridos_por_estacion)"
   ]
  },
  {
   "cell_type": "code",
   "execution_count": null,
   "metadata": {},
   "outputs": [],
   "source": [
    "#eliminacion de duplicados\n",
    "cant_NaN = recorridos_por_estacion.isnull().sum()\n",
    "total = recorridos_por_estacion.isnull().sum().sort_values(ascending=False)"
   ]
  },
  {
   "cell_type": "code",
   "execution_count": null,
   "metadata": {},
   "outputs": [],
   "source": [
    "#vemos que campos tienen valores nulos\n",
    "percent = (recorridos_por_estacion.isnull().sum()/recorridos_por_estacion.isnull().count()).sort_values(ascending=False)\n",
    "percent.head(20)"
   ]
  },
  {
   "cell_type": "markdown",
   "metadata": {},
   "source": [
    "Vemos que los unicos campos que tiene valores nulos son direccion_interseccion y direccion_altura"
   ]
  }
 ],
 "metadata": {
  "kernelspec": {
   "display_name": "Python 3",
   "language": "python",
   "name": "python3"
  },
  "language_info": {
   "codemirror_mode": {
    "name": "ipython",
    "version": 3
   },
   "file_extension": ".py",
   "mimetype": "text/x-python",
   "name": "python",
   "nbconvert_exporter": "python",
   "pygments_lexer": "ipython3",
   "version": "3.7.3"
  }
 },
 "nbformat": 4,
 "nbformat_minor": 2
}
